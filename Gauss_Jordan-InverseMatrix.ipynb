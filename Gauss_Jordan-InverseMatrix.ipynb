{
  "nbformat": 4,
  "nbformat_minor": 0,
  "metadata": {
    "colab": {
      "provenance": []
    },
    "kernelspec": {
      "name": "python3",
      "display_name": "Python 3"
    },
    "language_info": {
      "name": "python"
    }
  },
  "cells": [
    {
      "cell_type": "markdown",
      "source": [
        "# Project 2: Gauss-Jordan\n",
        "---\n",
        "- *Name*: **Lê Võ Minh Phương**\n",
        "- *Student ID*: **22120286**\n",
        "- *Class*: **Toán ứng dụng thống kê 22_3**\n",
        "---\n"
      ],
      "metadata": {
        "id": "eboQkX5TaPjI"
      }
    },
    {
      "cell_type": "markdown",
      "source": [
        "# I. TRÌNH BÀY GIẢI THUẬT"
      ],
      "metadata": {
        "id": "BsoJbsxw2B0z"
      }
    },
    {
      "cell_type": "markdown",
      "source": [
        "**1. Phương pháp Gauss-Jordan:**  \n",
        "*Note*: Kèm theo vị trí sử dụng các hàm helper.\n",
        "- Bước 1: Xác định cột đầu tiên không chứa số không: Hàm lặp qua các cột để tìm leading column.\n",
        "- Bước 2: Hoán đổi dòng đầu tiên với dòng khác đã được đánh dấu ở Bước 1 nếu cần: Hàm sử dụng hoán đổi dòng để đặt một số không ở cột chính lên đầu tiên.\n",
        "- Bước 3: Điều chỉnh dòng đầu tiên để có phần tử chính là 1: Hàm điều chỉnh dòng đầu tiên để đảm bảo phần tử chính là 1.\n",
        "- Bước 4: Sử dụng các phép biến đổi sơ cấp hàng cho các hàng phía dưới để biến tất cả các phần tử trong leading column thành số không, bắt đầu từ hàng thứ hai: Hàm áp dụng các phép toán hàng cơ bản để loại bỏ các phần tử dưới phần tử chính trong cột chính hiện tại.\n",
        "- Bước 5: Bỏ qua dòng đầu tiên và lặp lại từ Bước 1 với ma trận đã rút gọn: Sau mỗi lần lặp, hàng đầu tiên của ma trận được bỏ qua và quá trình được lặp lại với ma trận đã rút gọn.\n",
        "\n",
        "**2. Thuật toán Tìm Nghịch Đảo của Ma trận:**\n",
        "\n",
        "- Bước 1: Cho ma trận vuông A kích thước n x n, tìm ma trận nghịch đảo từ ma trận mở rộng $(A|I_n)$: Ma trận cần tìm nghịch đảo được kết hợp với ma trận đơn vị để thực hiện phương pháp Gauss-Jordan.\n",
        "- Bước 2: Áp dụng thuật toán Gauss-Jordan cho ma trận mở rộng: Hàm `inverse` thực hiện thuật toán Gauss-Jordan với ma trận đã kết hợp.\n",
        "- Bước 3: Sau khi thu được ma trận mở rộng $(I_n|A^{-1})$, ma trận $(A^{-1})$ là ma trận nghịch đảo của A: Sau khi loại bỏ ma trận đơn vị, ma trận nghịch đảo được trả ra."
      ],
      "metadata": {
        "id": "IxT2Di_3TsNA"
      }
    },
    {
      "cell_type": "code",
      "source": [
        "import numpy as np\n",
        "import copy"
      ],
      "metadata": {
        "id": "E7_PDuUlaXQ2"
      },
      "execution_count": 6,
      "outputs": []
    },
    {
      "cell_type": "markdown",
      "source": [
        "# II. CÀI ĐẶT CÁC HÀM ĐỂ TÌM MA TRẬN NGHỊCH ĐẢO"
      ],
      "metadata": {
        "id": "CDspVFEc2YQE"
      }
    },
    {
      "cell_type": "markdown",
      "source": [
        "##1. Viết hàm nhập ma trận vuông để tìm nghịch đảo"
      ],
      "metadata": {
        "id": "X3KAuWKn1uD7"
      }
    },
    {
      "cell_type": "code",
      "source": [
        "def input_square_matrix():\n",
        "\n",
        "  n = int(input(\"Nhập số dòng (cột) của ma trận vuông A: \"))\n",
        "  matrix = []\n",
        "\n",
        "  for i in range(n):\n",
        "\n",
        "    row_elements = input(f\"Nhập các phần tử của dòng thứ {i + 1} (cách nhau bởi 1 dấu cách): \").split()\n",
        "\n",
        "    matrix.append([float(element) for element in row_elements])\n",
        "\n",
        "  return matrix\n"
      ],
      "metadata": {
        "id": "u_SH7L4_Heso"
      },
      "execution_count": 7,
      "outputs": []
    },
    {
      "cell_type": "markdown",
      "source": [
        "##2. Sử dụng hàm tính định thức để kiểm tra tính khả nghịch"
      ],
      "metadata": {
        "id": "7iNpUqm9Zxqs"
      }
    },
    {
      "cell_type": "code",
      "source": [
        "\n",
        "def createSubMatrix(matrix:list, rowIndex:int, colIndex:int):\n",
        "    subMatrix = copy.deepcopy(matrix)\n",
        "\n",
        "\n",
        "    subMatrix = subMatrix[:rowIndex] + subMatrix[rowIndex+1:]\n",
        "\n",
        "\n",
        "    numRowsSubMatrix = len(subMatrix)\n",
        "    for i in range(numRowsSubMatrix):\n",
        "        subMatrix[i] = subMatrix[i][:colIndex] + subMatrix[i][colIndex+1:]\n",
        "\n",
        "    return subMatrix\n",
        "\n",
        "# tính định thức cho ma trận vuông\n",
        "def computeDeterminant(matrix:list):\n",
        "    # Base case: ma trận chỉ có 1 phần tử\n",
        "    if len(matrix) == 1 and len(matrix[0]) == 1:\n",
        "        return matrix[0][0]\n",
        "\n",
        "    total = 0\n",
        "\n",
        "    # Loop để tạo các ma trận con\n",
        "    for colIndex in range(len(matrix[0])):\n",
        "        subMatrix = createSubMatrix(matrix, 0, colIndex)\n",
        "\n",
        "        sign = (-1) ** (colIndex)\n",
        "\n",
        "        # Gọi đệ quy để tính định thức với từng ma trận con\n",
        "        subDeterminant = computeDeterminant(subMatrix)\n",
        "\n",
        "        # Tính tổng kết qur theo công thức\n",
        "        total += sign * matrix[0][colIndex] * subDeterminant\n",
        "\n",
        "    return total\n"
      ],
      "metadata": {
        "id": "sNH_tjww27Ul"
      },
      "execution_count": 8,
      "outputs": []
    },
    {
      "cell_type": "markdown",
      "source": [
        "## 3. Viết hàm đưa về ma trận đơn vị"
      ],
      "metadata": {
        "id": "XYeJbMShOd2T"
      }
    },
    {
      "cell_type": "markdown",
      "source": [
        "### 3.1 Hàm tạo ma trận đơn vị có cùng kích thước với ma trận A"
      ],
      "metadata": {
        "id": "bQxg1j8qbb6I"
      }
    },
    {
      "cell_type": "code",
      "source": [
        "def create_identity_matrix(identity_matrix: list, size: int) -> list:\n",
        "    # Tạo ma trận đơn vị kích thước size x size\n",
        "    for i in range(size):\n",
        "        identity_matrix.append([])\n",
        "        for j in range(size):\n",
        "            if i == j:\n",
        "                identity_matrix[i].append(1.0)  # Phần tử trên đường chéo chính bằng 1\n",
        "            else:\n",
        "                identity_matrix[i].append(0.0)  # Các phần tử còn lại bằng 0\n",
        "    return identity_matrix"
      ],
      "metadata": {
        "id": "oXKSl2V_bnt-"
      },
      "execution_count": 9,
      "outputs": []
    },
    {
      "cell_type": "markdown",
      "source": [
        "### 3.2 Viết hàm Kiểm tra xem có giá trị khác 0 ở dưới cột đã cho từ hàng `start_row`"
      ],
      "metadata": {
        "id": "MOLA4y8Qchtd"
      }
    },
    {
      "cell_type": "code",
      "source": [
        "def has_nonzero_below_column(matrix: list, column: int, start_row: int) -> bool:\n",
        "\n",
        "    for i in range(start_row, len(matrix)):\n",
        "        if matrix[i][column] != 0:\n",
        "            return True\n",
        "    return False"
      ],
      "metadata": {
        "id": "0e7LrASKczFl"
      },
      "execution_count": 10,
      "outputs": []
    },
    {
      "cell_type": "markdown",
      "source": [
        "### 3.3 Viết hàm kiểm tra 1 cột có chứa toàn số 0 hay không"
      ],
      "metadata": {
        "id": "_5LsbX1wc-EI"
      }
    },
    {
      "cell_type": "code",
      "source": [
        "def has_nonzero_row(matrix: list, row: int, num_columns: int) -> bool:\n",
        "    # Kiểm tra xem hàng của ma trận có toàn số 0 sau num_columns cột không\n",
        "    j = 0\n",
        "    for entry in matrix[row]:\n",
        "        if j == num_columns:\n",
        "            break\n",
        "        if entry != 0:\n",
        "            return True\n",
        "        j += 1\n",
        "    return False"
      ],
      "metadata": {
        "id": "goq2diO6dMjC"
      },
      "execution_count": 11,
      "outputs": []
    },
    {
      "cell_type": "markdown",
      "source": [
        "### 3.4 Viết hàm hoán đổi dòng trong ma trận và nhân một dòng của ma trận với một số vô hướng"
      ],
      "metadata": {
        "id": "LoX6DsMIdQ62"
      }
    },
    {
      "cell_type": "code",
      "source": [
        "def swap_rows(matrix: list, i: int, j: int):\n",
        "    # Hoán đổi hai hàng của ma trận\n",
        "    matrix[i], matrix[j] = matrix[j], matrix[i]\n",
        "\n",
        "def multiply_row(matrix: list, row_index: int, scalar: float):\n",
        "    # Nhân một hàng của ma trận với một số vô hướng\n",
        "    for j in range(len(matrix[row_index])):\n",
        "        value = scalar * matrix[row_index][j]\n",
        "        if value == -0.0:\n",
        "            value = 0.0\n",
        "        matrix[row_index][j] = truncate_number(value, 10)"
      ],
      "metadata": {
        "id": "aRREOdyXdhkY"
      },
      "execution_count": 12,
      "outputs": []
    },
    {
      "cell_type": "markdown",
      "source": [
        "###  3.5 Viết hàm thêm một hàng của ma trận vào một hàng khác sau khi nhân với một hằng số (`scalar`)"
      ],
      "metadata": {
        "id": "pVXvGG7IdwM3"
      }
    },
    {
      "cell_type": "code",
      "source": [
        "def add_row_to_row(matrix: list, row_index: int, target_row_index: int, scalar: float):\n",
        "\n",
        "    num_columns = len(matrix[row_index])\n",
        "    for k in range(num_columns):\n",
        "        value = matrix[row_index][k] + scalar * matrix[target_row_index][k]\n",
        "        if value == -0.0:\n",
        "            value = 0.0\n",
        "        matrix[row_index][k] = truncate_number(value, 10)"
      ],
      "metadata": {
        "id": "3ds-J4aLeE8Y"
      },
      "execution_count": 13,
      "outputs": []
    },
    {
      "cell_type": "markdown",
      "source": [
        "### 3.6 Viết hàm làm tròn số thập phân (lấy 7 chữ số sau dấu chấm thập phân)"
      ],
      "metadata": {
        "id": "easQ3GvpeJey"
      }
    },
    {
      "cell_type": "code",
      "source": [
        "def truncate_number(number, decimals=0):\n",
        "    # Hàm làm tròn số với số thập phân decimals\n",
        "    multiplier = 10 ** decimals\n",
        "    return int(number * multiplier) / multiplier\n"
      ],
      "metadata": {
        "id": "iGoM6YudebEv"
      },
      "execution_count": 14,
      "outputs": []
    },
    {
      "cell_type": "markdown",
      "source": [
        "### 3.7 Viết hàm nhận vào 1 ma trận vuông và đưa ra ma trận nghịch đảo của nó (nếu có)"
      ],
      "metadata": {
        "id": "6y1a7ZpHefk8"
      }
    },
    {
      "cell_type": "code",
      "source": [
        "def inverse(matrix: list):\n",
        "    # Tìm ma trận nghịch đảo của ma trận đã cho bằng phương pháp Gauss-Jordan\n",
        "\n",
        "    # Khởi tạo ma trận Gauss-Jordan từ ma trận ban đầu\n",
        "    gauss_jordan_matrix = copy.deepcopy(matrix)\n",
        "    # Tạo ma trận đơn vị\n",
        "    identity_matrix = []\n",
        "    size = len(matrix)\n",
        "    identity_matrix = create_identity_matrix(identity_matrix, size)\n",
        "\n",
        "    # Kết hợp ma trận ban đầu với ma trận đơn vị để tạo ma trận mở rộng\n",
        "    concat_index = 0\n",
        "    for row in gauss_jordan_matrix:\n",
        "        for k in range(len(identity_matrix[concat_index])):\n",
        "            row.append(identity_matrix[concat_index][k])\n",
        "        concat_index += 1\n",
        "\n",
        "    num_rows = size\n",
        "    num_cols = 2 * size\n",
        "\n",
        "    row = 0\n",
        "    while row < num_rows:\n",
        "        col = row\n",
        "\n",
        "        # Bước 1: Tìm cột dẫn (leading column)\n",
        "        while col < num_cols and not has_nonzero_below_column(gauss_jordan_matrix, col, row):\n",
        "            col += 1\n",
        "\n",
        "        # Nếu không tìm thấy cột dẫn, thoát vòng lặp\n",
        "        if col == num_cols:\n",
        "            break\n",
        "\n",
        "        # Bước 2: Hoán đổi dòng để đưa mục dẫn lên đầu cột\n",
        "        for pivot_row in range(row, num_rows):\n",
        "            if gauss_jordan_matrix[pivot_row][col] != 0:\n",
        "                break\n",
        "        swap_rows(gauss_jordan_matrix, row, pivot_row)\n",
        "\n",
        "        # Bước 3: Chia dòng đầu tiên để phần tử chính là 1\n",
        "        multiply_row(gauss_jordan_matrix, row, 1 / gauss_jordan_matrix[row][col])\n",
        "\n",
        "        # Bước 4: Sử dụng phép toán hàng cho các hàng phía dưới để biến tất cả phần tử trong cột dẫn thành số 0\n",
        "        for reversed_row in range(row):\n",
        "            add_row_to_row(gauss_jordan_matrix, reversed_row, row, -gauss_jordan_matrix[reversed_row][col])\n",
        "\n",
        "        for k in range(row + 1, size):\n",
        "            # Kiểm tra hàng có phải hàng không hay không\n",
        "            if not has_nonzero_row(gauss_jordan_matrix, k, size):\n",
        "                return ['Ma trận không thể nghịch đảo!']\n",
        "            # Sử dụng phép toán hàng cho các hàng phía dưới\n",
        "            add_row_to_row(gauss_jordan_matrix, k, row, -gauss_jordan_matrix[k][col])\n",
        "\n",
        "        row += 1\n",
        "\n",
        "    # Loại bỏ cột của ma trận đơn vị khỏi ma trận Gauss-Jordan\n",
        "    for row in gauss_jordan_matrix:\n",
        "        for i in range(size):\n",
        "            del row[0]\n",
        "\n",
        "    return gauss_jordan_matrix\n",
        "\n"
      ],
      "metadata": {
        "id": "j-dsdNHujY6L"
      },
      "execution_count": 15,
      "outputs": []
    },
    {
      "cell_type": "markdown",
      "source": [
        "# III. THỬ NGHIỆM CHƯƠNG TRÌNH"
      ],
      "metadata": {
        "id": "zN4adzgBxUWx"
      }
    },
    {
      "cell_type": "markdown",
      "source": [
        "## 1. Lấy dữ liệu từ bàn phím"
      ],
      "metadata": {
        "id": "5pzthK9SxjrD"
      }
    },
    {
      "cell_type": "code",
      "source": [
        "\n",
        "A = input_square_matrix();\n",
        "print (\"Ma trận A vừa nhập là \\n\")\n",
        "for i in A:\n",
        "  print (i);\n",
        "\n",
        "#Tính định thức để kiểm tra có nghịch đảo hay không\n",
        "det = computeDeterminant (A)\n",
        "print (\"Định thức của ma trận A là:\", det)\n",
        "\n",
        "if (det == 0):\n",
        "  print (\"Ma trận không khả nghịch\")\n",
        "else:\n",
        "  print (\"Ma trận nghịch đảo của A là \\n\")\n",
        "  A_inverse = inverse(A)\n",
        "  for i in A_inverse:\n",
        "    print(i)\n",
        "\n"
      ],
      "metadata": {
        "colab": {
          "base_uri": "https://localhost:8080/"
        },
        "id": "pzqg4lVaxS3P",
        "outputId": "31c8c7e2-5ad2-40e4-bbfa-8db34c56bfea"
      },
      "execution_count": 44,
      "outputs": [
        {
          "output_type": "stream",
          "name": "stdout",
          "text": [
            "Nhập số dòng (cột) của ma trận vuông A: 3\n",
            "Nhập các phần tử của dòng thứ 1 (cách nhau bởi 1 dấu cách): 1 2 -2\n",
            "Nhập các phần tử của dòng thứ 2 (cách nhau bởi 1 dấu cách): -2 1 2\n",
            "Nhập các phần tử của dòng thứ 3 (cách nhau bởi 1 dấu cách): 3 1 -4\n",
            "Ma trận A vừa nhập là \n",
            "\n",
            "[1.0, 2.0, -2.0]\n",
            "[-2.0, 1.0, 2.0]\n",
            "[3.0, 1.0, -4.0]\n",
            "Định thức của ma trận A là: 0.0\n",
            "Ma trận không khả nghịch\n"
          ]
        }
      ]
    },
    {
      "cell_type": "markdown",
      "source": [
        "### 1.1 MỞ RỘNG: Sử dụng hàm có sẵn để kiểm tra lại kết quả (`np.linalg.inv()`)\n",
        "\n",
        "*Note*: cần chuyển ma trận A thành kiểu `np.matrix` để sử dụng, nếu ma trận không khả nghịch thì đưa ra Exception (`LinAlgError: Singular matrix\n",
        "`), còn nếu khả nghịch thì sẽ xuất ra ma trận khả nghịch tương đương kết quả trên (có sai số ít ở phần thập phân nếu ra số thập phân vô hạn không tuần hoàn)"
      ],
      "metadata": {
        "id": "DhDl8JeDzxoT"
      }
    },
    {
      "cell_type": "code",
      "source": [
        "\n",
        "A_np_matrix = np.matrix(A)\n",
        "print (A_np_matrix)\n",
        "try:\n",
        "  print (np.linalg.inv(A_np_matrix))\n",
        "except Exception as e:\n",
        "      print(\"Xảy ra lỗi khi tính toán ma trận nghịch đảo:\", e)\n"
      ],
      "metadata": {
        "colab": {
          "base_uri": "https://localhost:8080/"
        },
        "id": "XXU81ssN2u3D",
        "outputId": "3dbd1735-6896-4799-89e1-46701edbd470"
      },
      "execution_count": 46,
      "outputs": [
        {
          "output_type": "stream",
          "name": "stdout",
          "text": [
            "[[ 1.  2. -2.]\n",
            " [-2.  1.  2.]\n",
            " [ 3.  1. -4.]]\n",
            "Xảy ra lỗi khi tính toán ma trận nghịch đảo: Singular matrix\n"
          ]
        }
      ]
    },
    {
      "cell_type": "markdown",
      "source": [
        "### 1.2 Test nhanh với các ma trận có sẵn và kiểm chứng với thư viện có sẵn `np.linalg.inv()`"
      ],
      "metadata": {
        "id": "PEmrAqhrhNfH"
      }
    },
    {
      "cell_type": "code",
      "source": [
        "T1 = [[12.12, 45], [10, 25]]\n",
        "T1_matrix = np.matrix(T1)\n",
        "\n",
        "det = computeDeterminant (T1)\n",
        "print (\"Định thức của ma trận là: \", det)\n",
        "\n",
        "if (det == 0):\n",
        "  print (\"Ma trận không khả nghịch\")\n",
        "else:\n",
        "  print (\"Ma trận nghịch đảo là \\n\")\n",
        "  T1 = inverse(T1)\n",
        "  for i in T1:\n",
        "    print(i)\n",
        "\n",
        "print (\"Kiểm chứng với hàm có sẵn\\n\")\n",
        "\n",
        "for i in np.linalg.inv(T1_matrix):\n",
        "  print(i)\n",
        "\n",
        "print (\"------------------------------------\")\n",
        "\n",
        "T2 = [[2, -3, -4], [-2,2,3], [-3,4,6] ]\n",
        "T2_matrix = np.matrix(T2)\n",
        "\n",
        "det = computeDeterminant (T2)\n",
        "print (\"Định thức của ma trận là: \", det)\n",
        "\n",
        "if (det == 0):\n",
        "  print (\"Ma trận không khả nghịch\")\n",
        "else:\n",
        "  print (\"Ma trận nghịch đảo là \\n\")\n",
        "  T2 = inverse(T2)\n",
        "  for i in T2:\n",
        "    print(i)\n",
        "\n",
        "print (\"Kiểm chứng với hàm có sẵn\\n\")\n",
        "\n",
        "for i in np.linalg.inv(T2_matrix):\n",
        "  print(i)\n",
        "\n",
        "print (\"------------------------------------\")\n",
        "\n",
        "T3 = [[2,-3,3], [1,-1,-2], [-5,7,-4]]\n",
        "\n",
        "T3_matrix = np.matrix(T3)\n",
        "\n",
        "det = computeDeterminant (T3)\n",
        "print (\"Định thức của ma trận là: \", det)\n",
        "\n",
        "if (det == 0):\n",
        "  print (\"Ma trận không khả nghịch\")\n",
        "else:\n",
        "  print (\"Ma trận nghịch đảo là \\n\")\n",
        "  T3 = inverse(T3)\n",
        "  for i in T3:\n",
        "    print(i)\n",
        "\n",
        "print (\"Kiểm chứng với hàm có sẵn\\n\")\n",
        "try:\n",
        "  for i in np.linalg.inv(T3_matrix):\n",
        "    print(i)\n",
        "except Exception as e:\n",
        "      print(\"Xảy ra lỗi khi tính toán ma trận nghịch đảo:\", e)"
      ],
      "metadata": {
        "id": "Tp7LIQgCaLhz",
        "colab": {
          "base_uri": "https://localhost:8080/"
        },
        "outputId": "cdea77bd-c61c-4f37-dfb9-73f2e2c24513"
      },
      "execution_count": 50,
      "outputs": [
        {
          "output_type": "stream",
          "name": "stdout",
          "text": [
            "Định thức của ma trận là:  -147.0\n",
            "Ma trận nghịch đảo là \n",
            "\n",
            "[-0.1700680269, 0.3061224486]\n",
            "[0.0680272108, -0.0824489795]\n",
            "Kiểm chứng với hàm có sẵn\n",
            "\n",
            "[[-0.17006803  0.30612245]]\n",
            "[[ 0.06802721 -0.08244898]]\n",
            "------------------------------------\n",
            "Định thức của ma trận là:  -1\n",
            "Ma trận nghịch đảo là \n",
            "\n",
            "[0.0, -2.0, 1.0]\n",
            "[-3.0, 0.0, -2.0]\n",
            "[2.0, -1.0, 2.0]\n",
            "Kiểm chứng với hàm có sẵn\n",
            "\n",
            "[[-1.18423789e-15 -2.00000000e+00  1.00000000e+00]]\n",
            "[[-3.00000000e+00  9.99200722e-16 -2.00000000e+00]]\n",
            "[[ 2. -1.  2.]]\n",
            "------------------------------------\n",
            "Định thức của ma trận là:  0\n",
            "Ma trận không khả nghịch\n",
            "Kiểm chứng với hàm có sẵn\n",
            "\n",
            "[[4.05323966e+15 2.02661983e+15 2.02661983e+15]]\n",
            "[[3.15251974e+15 1.57625987e+15 1.57625987e+15]]\n",
            "[[4.50359963e+14 2.25179981e+14 2.25179981e+14]]\n"
          ]
        }
      ]
    },
    {
      "cell_type": "markdown",
      "source": [
        "**Nhận xét**: ở trường hợp T3, tuy định thức bằng 0 nhưng hàm `np.linalg.inv()` vẫn cho ra kết quả nhưng đều là số dương vô cùng vì nó sử dụng hàm `np.linalg.solve($(A|I_n)$` và cách lưu trữ dấu chấm động khiến giá trị chỉ đạt mức độ gần đúng nên ta có thể hiểu nó không có ma trận nghịch đảo."
      ],
      "metadata": {
        "id": "5-UjEHsZpTSK"
      }
    },
    {
      "cell_type": "markdown",
      "source": [
        "# IV. MÔ TẢ VÀ Ý TƯỞNG CỦA CÁC HÀM ĐÃ CÀI ĐẶT"
      ],
      "metadata": {
        "id": "tjkUVguJeumk"
      }
    },
    {
      "cell_type": "markdown",
      "source": [
        "\n",
        "## Hàm `has_nonzero_below_column`:\n",
        "- Ý tưởng: Kiểm tra xem có giá trị khác 0 ở dưới cột đã cho từ hàng start_row không.\n",
        "- Input:  \n",
        " + `matrix`: Ma trận đang xem xét.  \n",
        " + `column`: Chỉ số của cột cần kiểm tra.  \n",
        " + `start_row`: Hàng bắt đầu kiểm tra.\n",
        "- Output:\n",
        "bool: Trả về True nếu có ít nhất một giá trị khác 0 ở dưới cột đã cho từ hàng start_row, ngược lại trả về False.\n",
        "\n",
        "## Hàm create_identity_matrix\n",
        "- Ý tưởng: Tạo ma trận đơn vị với kích thước đã cho.\n",
        "- Input:  \n",
        "  + `identity_matrix`: Ma trận đơn vị cần tạo.  \n",
        "  + `size`: Kích thước của ma trận đơn vị (số hàng = số cột).\n",
        "- Output: list: Trả về ma trận đơn vị được tạo.  \n",
        "\n",
        "## Hàm truncate_number\n",
        "- Ý tưởng: Làm tròn một số với số chữ số thập phân cụ thể.\n",
        "- Input:\n",
        " + `number`: Số cần làm tròn.\n",
        "  + `decimals`: Số chữ số thập phân.\n",
        "- Output:\n",
        "  - float: Trả về số đã được làm tròn.\n",
        "\n",
        "## Hàm has_nonzero_row\n",
        "- Ý tưởng: Kiểm tra xem hàng của ma trận có toàn số 0 sau num_columns cột không.\n",
        "- Input:\n",
        "   - `matrix`: Ma trận cần kiểm tra.\n",
        "   - `row` : Hàng cần kiểm tra.  \n",
        "   \n",
        "  - `num_columns`: Số cột cần kiểm tra.\n",
        "- Output: bool: Trả về True nếu hàng của ma trận có toàn số 0 sau num_columns cột, ngược lại trả về False.\n",
        "\n",
        "## Hàm swap_rows\n",
        "- Ý tưởng: Hoán đổi hai hàng của ma trận.\n",
        "- Input:\n",
        "  - `matrix`: Ma trận chứa hai hàng cần hoán đổi.\n",
        "  - `i`: Chỉ số hàng thứ nhất.\n",
        "  - `j`: Chỉ số hàng thứ hai.\n",
        "- Output: Không có giá trị trả về, hoán vị 2 dòng của ma trận input\n",
        "\n",
        "## Hàm multiply_row\n",
        "- Ý tưởng: Nhân một hàng của ma trận với một số vô hướng.\n",
        "- Input:\n",
        "  - `matrix`: Ma trận chứa hàng cần nhân.\n",
        "  - `row_index`: Chỉ số của hàng cần nhân.\n",
        "  - `scalar`: Số vô hướng để nhân vào hàng.\n",
        "- Output: Không có giá trị trả về, giá trị trong 1 hàng đã được nhân 1 hằng số\n",
        "\n",
        "## Hàm add_row_to_row\n",
        "- Ý tưởng: Thêm một hàng của ma trận vào một hàng khác với một hệ số nhân.\n",
        "- Input:\n",
        "  - `matrix`: Ma trận chứa các hàng.\n",
        "  - `row_index`: Chỉ số của hàng cần thêm.\n",
        "  - `target_row_index`: Chỉ số của hàng mục tiêu.\n",
        "  - `scalar`: Hệ số nhân.\n",
        "- Output: Không có giá trị trả về, giá trị 1 hàng được cập nhật với 1 dòng khác cùng 1 hệ số\n",
        "\n",
        "## Hàm inverse\n",
        "- Ý tưởng: Tìm ma trận nghịch đảo của ma trận đã cho bằng phương pháp Gauss-Jordan.\n",
        "- Input:\n",
        "  - `matrix`: Ma trận cần tìm nghịch đảo.\n",
        "  - `size`: Kích thước của ma trận (số hàng = số cột).\n",
        "- Output: list: Trả về ma trận nghịch đảo."
      ],
      "metadata": {
        "id": "DrFPX1S5mbtu"
      }
    },
    {
      "cell_type": "code",
      "source": [],
      "metadata": {
        "id": "aRIJWHYxjofc"
      },
      "execution_count": null,
      "outputs": []
    }
  ]
}