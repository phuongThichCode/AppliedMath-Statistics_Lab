{
 "cells": [
  {
   "cell_type": "markdown",
   "id": "6ae3dfda-a55e-4f66-878d-bdd8200a6151",
   "metadata": {},
   "source": [
    "# Project 1: Gauss\n",
    "---\n",
    "- *Name*: **Lê Võ Minh Phương**\n",
    "- *Student ID*: **22120286**\n",
    "- *Class*: **Toán ứng dụng thống kê 22_3**\n",
    "---"
   ]
  },
  {
   "cell_type": "markdown",
   "id": "914afbf3-b892-4fcd-a8f2-e37d41be3524",
   "metadata": {},
   "source": [
    "**Requirements**  \n",
    "- All works must be done and submitted in one .ipynb file\n",
    "- Must include student's information and algorithms like in Practice 1.\n",
    "- Must include descriptions and ideas for each function in the project. "
   ]
  },
  {
   "cell_type": "markdown",
   "id": "6127fd23-8743-4a0e-9789-ff46b8b22bd1",
   "metadata": {},
   "source": [
    "***Algorithm explanation*** Present the algorithms and ideas to implement two main functions `Gauss_elimination` and `back_substitution`.\n",
    "\n",
    "### 1. Gaussian Elimination Algorithm:\n",
    "   - **Input**: Receive the augmented matrix representing the system of linear equations.\n",
    "   - **Swap Rows**: Swap rows to move rows with fewer leading zeros to the top.\n",
    "   - **Check Echelon Form**: Verify if the matrix is already in row echelon form. If so, stop.\n",
    "   - **Perform Gaussian Elimination**:\n",
    "     - Iterate through each row of the augmented matrix:\n",
    "       - Determine the number of non-zero entries in the current row (`nonZeros_cur_row`).\n",
    "       - Find the number of non-zero entries in the previous row (`nonZeros_prev_row`).\n",
    "       - If the number of non-zero entries in the current row matches the previous row:\n",
    "         - Calculate the position to subtract (`pos_to_substract`) based on the count of leading zeros.\n",
    "         - Compute the (`multiple`) as the ratio of elements in the current row and the corresponding element in the previous row.\n",
    "         - Subtract the multiple times the previous row from the current row.\n",
    "   - **Swap Rows (Post-Elimination)**: Swap rows again to maintain the desired order after Gaussian elimination.\n",
    "   - **Output**: Return the modified augmented matrix.\n",
    "\n",
    "### 2. Back Substitution Algorithm:\n",
    "   - **Input**: Receive the row echelon matrix from Gaussian elimination.\n",
    "   - **Preprocessing**:\n",
    "     - Remove rows containing only zeros, as they are unnecessary and could cause division by zero errors.\n",
    "   - **Initialize Variables**:\n",
    "     - Determine the number of rows (`n`) and columns (`m`) in the augmented matrix.\n",
    "     - Calculate the number of free variables (`num_free_variables`) in the system.\n",
    "     - Initialize an empty list `result` to store the solution.\n",
    "   - **Identify Free Variables**:\n",
    "     - Generate rows in `result` representing free variables by setting coefficients of free variables to 1 and others to 0.\n",
    "   - **Perform Back Substitution**:\n",
    "     - Iterate through rows of the augmented matrix in reverse order (from `n-1` to `0`).\n",
    "     - Initialize a vector `l` to represent the constants in the equations, with the last element being the constant term from the augmented matrix.\n",
    "     - Perform row operations to eliminate variables and find the solution.\n",
    "     - Perform division to isolate the variable being solved for.\n",
    "   - **Print Solutions**:\n",
    "     - Print the solutions with appropriate formatting, including the variable names and their corresponding coefficients.\n",
    "   - **Output**: Print the solutions obtained from back substitution.\n"
   ]
  },
  {
   "cell_type": "code",
   "execution_count": 283,
   "id": "e21e897d-050a-4066-8783-fc09c45a6338",
   "metadata": {},
   "outputs": [],
   "source": [
    "import numpy as np"
   ]
  },
  {
   "cell_type": "markdown",
   "id": "fc7fa78d-7396-451f-83aa-e33c31fcee1d",
   "metadata": {},
   "source": [
    "## Task 1:\n",
    "Input the system of equations, the same as an augmented matrix `[A|b]`"
   ]
  },
  {
   "cell_type": "code",
   "execution_count": 286,
   "id": "38797911-32ee-4449-97f7-ad27227172f4",
   "metadata": {},
   "outputs": [],
   "source": [
    "def inputSystemOfEquations():\n",
    "    n = int(input(\"Enter the number of equations: \"))\n",
    "    sys_equations = []\n",
    "    for i in range(n):\n",
    "        equation = input(f\"Enter the {i+1}th equation (e.g.: '3 6 9' for 3x + 6y = 9): \")\n",
    "        sys_equations.append([float(x) for x in equation.split()])\n",
    "    return sys_equations"
   ]
  },
  {
   "cell_type": "markdown",
   "id": "f878e2f4-d326-4a26-aa77-b387b86358b5",
   "metadata": {},
   "source": [
    "## Task 2:\n",
    "Write some utility functions for the Gauss_elimination"
   ]
  },
  {
   "cell_type": "markdown",
   "id": "79d03452-6da4-4a3f-ace3-fc5d239fef79",
   "metadata": {},
   "source": [
    "### 1: Function to count the number of zeros before the first non-zero entry of a row"
   ]
  },
  {
   "cell_type": "code",
   "execution_count": 290,
   "id": "93fac232-06af-45cc-b617-32fb5a8ab826",
   "metadata": {},
   "outputs": [],
   "source": [
    "def countAllZerosBeforeNonZero(sequence):\n",
    "    count = 0\n",
    "    for element in sequence:\n",
    "        if element == 0:\n",
    "            count += 1\n",
    "        else:\n",
    "            break\n",
    "    return count\n",
    "    "
   ]
  },
  {
   "cell_type": "markdown",
   "id": "211507b7-d531-43f6-af9a-1955818b0b59",
   "metadata": {},
   "source": [
    "### 2. Function to check if a given matrix is an echelon matrix\n",
    "It checks based on the rule that the `row[i+1]` has the position of the leading entry on the **right** of the leading entry of `row[i]` (means the number of zeros before a non-zero number of `row[i]` less than `row[i+1]`'s), excluding the case zero-row (which will be swapped with another function)."
   ]
  },
  {
   "cell_type": "code",
   "execution_count": 293,
   "id": "09fbebfb-aa86-4858-99a7-343daa816e25",
   "metadata": {},
   "outputs": [],
   "source": [
    "def checkNotAllZero(row):\n",
    "    return all(entry == 0 for entry in row)\n",
    "\n",
    "def isEchelonMatrix(matrix):\n",
    "    num_rows = len(matrix)\n",
    "    for row in range(num_rows - 1):\n",
    "        if (not checkNotAllZero(matrix[row])) and (countAllZerosBeforeNonZero(matrix[row]) >= countAllZerosBeforeNonZero(matrix[row + 1])):\n",
    "            return False\n",
    "    return True"
   ]
  },
  {
   "cell_type": "markdown",
   "id": "2fd07076-69e3-4209-bd57-7035ce78b186",
   "metadata": {},
   "source": [
    "### 3. Function to swap rows with more zero entries to the bottom "
   ]
  },
  {
   "cell_type": "code",
   "execution_count": 295,
   "id": "91541082-0d18-4243-81a4-352d42da2a64",
   "metadata": {},
   "outputs": [],
   "source": [
    "def swapRow(matrix):\n",
    "    for i in range(0,len(matrix)-1):\n",
    "        for j in range(i+1,len(matrix)):\n",
    "            if(countAllZerosBeforeNonZero(matrix[i]) > countAllZerosBeforeNonZero(matrix[j])):\n",
    "                matrix[i], matrix[j] = matrix[j], matrix[i]\n",
    "    return matrix"
   ]
  },
  {
   "cell_type": "markdown",
   "id": "bbe9a596-c103-4b7d-9778-8d34ac319073",
   "metadata": {},
   "source": [
    "## Task 3:\n",
    "Write the Gauss_elimination to perform Gaussian elimination with the input is the entered augmented matrix `[A|b]` and return an row echelon matrix"
   ]
  },
  {
   "cell_type": "code",
   "execution_count": 298,
   "id": "74087ca6-565c-440b-98d6-28089e3a04df",
   "metadata": {},
   "outputs": [],
   "source": [
    "def Gauss_elimination(augmented_matrix):\n",
    "    # Step 1: Swap rows to move rows with fewer leading zeros to the top\n",
    "    swapRow(augmented_matrix)\n",
    "\n",
    "    # Step 2: Check if the matrix is already in row echelon form\n",
    "    if isEchelonMatrix(augmented_matrix):\n",
    "        return augmented_matrix\n",
    "    # Step 3: Perform Gaussian elimination\n",
    "    num_rows = len(augmented_matrix)\n",
    "    for pivot_row_index in range(1, num_rows+1):\n",
    "        if isEchelonMatrix(augmented_matrix):\n",
    "            break\n",
    "        for row_index in range(pivot_row_index, num_rows):\n",
    "            nonZeros_cur_row = len(augmented_matrix[row_index]) - countAllZerosBeforeNonZero(augmented_matrix[row_index])\n",
    "            nonZeros_prev_row = len(augmented_matrix[pivot_row_index - 1]) - countAllZerosBeforeNonZero(augmented_matrix[pivot_row_index - 1])\n",
    "            # where the leading nonzero entry in each row is to the right of\n",
    "            # the leading nonzero entry in the row above it.\n",
    "            if nonZeros_prev_row == nonZeros_cur_row:\n",
    "                pos_to_substract = countAllZerosBeforeNonZero(augmented_matrix[row_index])\n",
    "                multiple = augmented_matrix[row_index][pos_to_substract] / augmented_matrix[pivot_row_index - 1][pos_to_substract]\n",
    "                for col_index in range(0, len(augmented_matrix[0])):\n",
    "                    augmented_matrix[row_index][col_index] -= multiple * augmented_matrix[pivot_row_index - 1][col_index]\n",
    "\n",
    "        # Step 4: Swap rows again after Gaussian elimination\n",
    "        swapRow(augmented_matrix)\n",
    "\n",
    "    return augmented_matrix\n"
   ]
  },
  {
   "cell_type": "markdown",
   "id": "a92edc03-87b8-4d6b-8c93-af34e18bfb5d",
   "metadata": {},
   "source": [
    "## Task 4:\n",
    "Write `back_substitution` to solve the linear system of equations, using the row echelon matrix from `Gauss_elimination`.\\\n",
    "*Note:* the `format_sequence` function is used to display the solutions in case of infinite solutions, with the free variables expressed as `t_1, t_2`,... belong to the set of real numbers `R`."
   ]
  },
  {
   "cell_type": "code",
   "execution_count": 301,
   "id": "98460105-8735-4eda-a1d9-7a78e164f3e8",
   "metadata": {},
   "outputs": [],
   "source": [
    "def format_sequence(seq):\n",
    "    terms = []\n",
    "    for i, coefficient in enumerate(seq):\n",
    "        if i < len(seq) - 1:\n",
    "            terms.append(f\"{coefficient}*t_{i+1}\")\n",
    "    t = \" + \".join(terms)\n",
    "    t += f\" + {seq[-1]}\"\n",
    "    return t\n",
    "    \n",
    "def back_substitution(M):\n",
    "    #remove 0 rows, which are unnecessary for substitution and cause\n",
    "    #errors with division by 0.\n",
    "    M = [row for row in M if not all(value == 0 for value in row)]\n",
    "   \n",
    "    n = len(M)\n",
    "    m = len(M[0])\n",
    "    num_free_variables = m - 1 - n\n",
    "    \n",
    "    ## Initialize the result list to store the solution.\n",
    "    result = []\n",
    "    for _ in range(m-1):\n",
    "        row = [0] * (num_free_variables+1) # Initialize each row with zeros\n",
    "        result.append(row)\n",
    "    \n",
    "    # Create rows to represent free variables in the solution.\n",
    "    for i in range(num_free_variables):\n",
    "        row = [0] * (num_free_variables+1)\n",
    "        row[num_free_variables-1-i] = 1 # Set the coefficient of each free variable to 1\n",
    "        \n",
    "        #Since the result array is initialized in reverse order (from the bottom up), m-2-i calculates the index in the result array\n",
    "        #corresponding to the current row being processed.\n",
    "        result[m-2-i] = row\n",
    "        \n",
    "    for i in range(n-1,-1,-1):# Iterate over rows in reverse order\n",
    "      l = [0]*(num_free_variables+1)\n",
    "      l[-1] = M[i][-1]\n",
    "\n",
    "    # Convert the list to a numpy array for easier manipulation\n",
    "      l1 = np.array(l)\n",
    "\n",
    "    #Perform row operations to eliminate variables and find the solution.\n",
    "      for j in range(len(result)):\n",
    "        l1 = l1 - M[i][m-2-j]*np.array(result[m-2-j])\n",
    "    #Perform division to isolate the variable being solved for\n",
    "      l1 = l1/M[i][i]\n",
    "      result[i] = list(l1)\n",
    "    for i in range(len(result)):\n",
    "      print(f\"x_{i+1} = {format_sequence(result[i])}\")"
   ]
  },
  {
   "cell_type": "markdown",
   "id": "b17a8cc6-7e04-4b49-b8a4-b72251172262",
   "metadata": {},
   "source": [
    "The `printNumberOfSol` is used to notify the users how many solutions the equation system has based on `Kronecker-Capelli Theorem`."
   ]
  },
  {
   "cell_type": "code",
   "execution_count": 304,
   "id": "8bca96fc-1755-4b14-8c03-9bad15edc5fa",
   "metadata": {},
   "outputs": [],
   "source": [
    "def printNumberOfSol(augmented_matrix):\n",
    "    # get the matrix A by excluding vector b\n",
    "    A = [i[:-1] for i in augmented_matrix]\n",
    "\n",
    "    #using method numpy.linalg.matrix_rank() for calculating matrices' rank\n",
    "    #to conclude the number of solutions, not used for finding the solutions\n",
    "    rank_augmented = np.linalg.matrix_rank(augmented_matrix)\n",
    "    rank_A = np.linalg.matrix_rank(A)\n",
    "\n",
    "    num_variables = len(A[0]) #- 1  # Excluding the augmented column\n",
    "    \n",
    "    if rank_augmented == rank_A + 1:\n",
    "        return ('No solutions.')\n",
    "    elif rank_augmented == rank_A and rank_A == num_variables:\n",
    "        return ('Unique solution.')\n",
    "    else:\n",
    "        return ('Infinite solutions.')\n",
    "    "
   ]
  },
  {
   "cell_type": "code",
   "execution_count": 306,
   "id": "63d8f8a3-4461-4acd-8dbc-47e4ab390134",
   "metadata": {},
   "outputs": [],
   "source": [
    "def main():\n",
    "    print (\"Enter the linear system equations (as known as an augmented matrix)\\n\")\n",
    "    augmented_matrix = inputSystemOfEquations()\n",
    "    print (\"Your newly entered input is\\n\")\n",
    "    for row in augmented_matrix:\n",
    "        print (row)\n",
    "    print (\"\\n\")\n",
    "    row_echelon_matrix = Gauss_elimination (augmented_matrix)\n",
    "\n",
    "    print (\"Echelon matrix after Gaussian elimination:\\n\")\n",
    "    for row in row_echelon_matrix:\n",
    "        print (row)\n",
    "    print(\"\\n The system of equations is in case of: \")\n",
    "    \n",
    "    numberOfSol = printNumberOfSol (augmented_matrix)\n",
    "    if numberOfSol == 'No solutions.':\n",
    "        print(numberOfSol)\n",
    "        return\n",
    "    else:\n",
    "        print(numberOfSol)\n",
    "        back_substitution(row_echelon_matrix)\n",
    "            "
   ]
  },
  {
   "cell_type": "markdown",
   "id": "67c66005-7f34-43ff-b00f-d2ab41be35b7",
   "metadata": {},
   "source": [
    "## Test the program\n",
    "\\\n",
    "Users enter each equation one by one, and then the program will print the entered augmented matrix, row echelon matrix after Gaussian elimination and notify the number of solutions with its expression or values. "
   ]
  },
  {
   "cell_type": "code",
   "execution_count": 313,
   "id": "1545eb46-c9aa-401d-b26b-68065301b43f",
   "metadata": {},
   "outputs": [
    {
     "name": "stdout",
     "output_type": "stream",
     "text": [
      "Enter the linear system equations (as known as an augmented matrix)\n",
      "\n"
     ]
    },
    {
     "name": "stdin",
     "output_type": "stream",
     "text": [
      "Enter the number of equations:  3\n",
      "Enter the 1th equation (e.g.: '3 6 9' for 3x + 6y = 9):  2 -3 4 -1 0\n",
      "Enter the 2th equation (e.g.: '3 6 9' for 3x + 6y = 9):  6 1 -8 9 0\n",
      "Enter the 3th equation (e.g.: '3 6 9' for 3x + 6y = 9):  2 6 1 -1 0\n"
     ]
    },
    {
     "name": "stdout",
     "output_type": "stream",
     "text": [
      "Your newly entered input is\n",
      "\n",
      "[2.0, -3.0, 4.0, -1.0, 0.0]\n",
      "[6.0, 1.0, -8.0, 9.0, 0.0]\n",
      "[2.0, 6.0, 1.0, -1.0, 0.0]\n",
      "\n",
      "\n",
      "Echelon matrix after Gaussian elimination:\n",
      "\n",
      "[2.0, -3.0, 4.0, -1.0, 0.0]\n",
      "[0.0, 10.0, -20.0, 12.0, 0.0]\n",
      "[0.0, 0.0, 15.0, -10.8, 0.0]\n",
      "\n",
      " The system of equations is in case of: \n",
      "Infinite solutions.\n",
      "x_1 = -0.5799999999999998*t_1 + 0.0\n",
      "x_2 = 0.2400000000000002*t_1 + 0.0\n",
      "x_3 = 0.7200000000000001*t_1 + 0.0\n",
      "x_4 = 1*t_1 + 0\n"
     ]
    }
   ],
   "source": [
    "if __name__ == \"__main__\":\n",
    "    main()"
   ]
  },
  {
   "cell_type": "markdown",
   "id": "12ab7c1b-e470-4adc-8bb4-b45c2b32278a",
   "metadata": {},
   "source": [
    "## Extended task\n",
    "Using the library `sympy` with methods `symbols` (to name the variables), `Eq` (to mark the equations), `solve` (to solve and print the final result)."
   ]
  },
  {
   "cell_type": "code",
   "execution_count": 325,
   "id": "70cec50a-99f9-49f5-a948-5a16acc08385",
   "metadata": {},
   "outputs": [
    {
     "data": {
      "text/plain": [
       "{x: -0.58*t, y: 0.24*t, z: 0.72*t}"
      ]
     },
     "execution_count": 325,
     "metadata": {},
     "output_type": "execute_result"
    }
   ],
   "source": [
    "import sympy as sp\n",
    "\n",
    "# Define the variables\n",
    "x, y, z,t = sp.symbols('x y z t')\n",
    "\n",
    "# Define the equations\n",
    "eq1 = sp.Eq(2*x - 3*y + 4*z - 1*t, 0)\n",
    "eq2 = sp.Eq(6*x +1*y -8*z +9*t, 0)\n",
    "eq3 = sp.Eq(2*x + 6*y + 1*z-1*t, 0)\n",
    "\n",
    "# Solve the linear system of equations\n",
    "solution = sp.solve((eq1, eq2,eq3), (x, y, z,t))\n",
    "solution\n",
    "solution_decimal = {key: value.evalf() for key, value in solution.items()}\n",
    "solution_decimal"
   ]
  },
  {
   "cell_type": "markdown",
   "id": "4cc482bd-d939-45dc-b2ab-b4b389b876f0",
   "metadata": {},
   "source": [
    "## Quick test\n",
    "You can test the program with the following augmented matrix (uncomment one matrix to run)"
   ]
  },
  {
   "cell_type": "code",
   "execution_count": 339,
   "id": "e509b63d-9b7a-4969-a79d-1db10b4b44e3",
   "metadata": {},
   "outputs": [
    {
     "name": "stdout",
     "output_type": "stream",
     "text": [
      "Echelon matrix:\n",
      "[1, -2, 2, 7, -3, 1]\n",
      "[0.0, -17.0, 27.0, 45.0, -14.0, 8.0]\n",
      "[0.0, 0.0, -5.0588235294117645, 2.235294117647058, -4.117647058823529, -1.6470588235294121]\n",
      "[0.0, 0.0, 0.0, 58.13953488372094, 5.953488372093018, 12.581395348837209]\n",
      "\n",
      "\n",
      "Infinite solutions.\n",
      "x_1 = 0.5167999999999999*t_1 + 0.18520000000000025\n",
      "x_2 = -2.4591999999999996*t_1 + 0.7712\n",
      "x_3 = -0.8592*t_1 + 0.4212000000000001\n",
      "x_4 = -0.1023999999999999*t_1 + 0.21639999999999995\n",
      "x_5 = 1*t_1 + 0\n"
     ]
    }
   ],
   "source": [
    "#Unique sol\n",
    "\"\"\"\n",
    "test_augmented_matrix = [\n",
    "    [1,1,2,3,1],\n",
    "    [2,3,-1,-1,-6],\n",
    "    [3,-1,-1,-2,-4],\n",
    "    [1,2,3,-1,-4]\n",
    "]\n",
    "\"\"\"\n",
    "\n",
    "#Inf\n",
    "test_augmented_matrix =[\n",
    "    [1,-2,2,7,-3,1],\n",
    "    [-6,-5,15,3,4,2],\n",
    "    [-5,-2,4,-1,1,-1],\n",
    "    [-20,14,8,-16,50,7]\n",
    "]\n",
    "\n",
    "# No sol\n",
    "\"\"\"\n",
    "test_augmented_matrix =[\n",
    "    [2,-2,1,-1,1,1],\n",
    "    [1,2,-1,1,-2,1],\n",
    "    [4,-10,5,-5,7,1],\n",
    "    [2,-14,7,-7,11,1]\n",
    "]\n",
    "\"\"\"\n",
    "test_echelon_matrix = Gauss_elimination (test_augmented_matrix)\n",
    "print('Echelon matrix:')\n",
    "for i in test_echelon_matrix:\n",
    "    print (i)\n",
    "\n",
    "print('\\n')\n",
    "numberOfSol = printNumberOfSol (test_augmented_matrix)\n",
    "if numberOfSol == 'No solutions.':\n",
    "    print(numberOfSol)\n",
    "else:\n",
    "    print(numberOfSol)\n",
    "    back_substitution(test_echelon_matrix)\n",
    "            \n"
   ]
  },
  {
   "cell_type": "code",
   "execution_count": 333,
   "id": "01a66935-420e-487f-afb4-d13ec894be01",
   "metadata": {},
   "outputs": [
    {
     "data": {
      "text/latex": [
       "$\\displaystyle \\left\\{\\left( \\frac{323 u}{625} + \\frac{463}{2500}, \\  \\frac{482}{625} - \\frac{1537 u}{625}, \\  \\frac{1053}{2500} - \\frac{537 u}{625}, \\  \\frac{541}{2500} - \\frac{64 u}{625}, \\  u\\right)\\right\\}$"
      ],
      "text/plain": [
       "{(323*u/625 + 463/2500, 482/625 - 1537*u/625, 1053/2500 - 537*u/625, 541/2500 - 64*u/625, u)}"
      ]
     },
     "execution_count": 333,
     "metadata": {},
     "output_type": "execute_result"
    }
   ],
   "source": [
    "# Check the with sympy: copy the augmented matrix and paste (results in the fraction form, they are equal)\n",
    "x, y, z, t, u = sp.symbols('x y z t u')\n",
    "\n",
    "\n",
    "augmented_matrix = sp.Matrix([\n",
    "   [1,-2,2,7,-3,1],\n",
    "    [-6,-5,15,3,4,2],\n",
    "    [-5,-2,4,-1,1,-1],\n",
    "    [-20,14,8,-16,50,7]\n",
    "])\n",
    "\n",
    "\n",
    "solution = sp.linsolve(augmented_matrix, x, y, z, t, u)\n",
    "solution"
   ]
  },
  {
   "cell_type": "markdown",
   "id": "10826841-9d93-4743-9de4-5a3d85ab455d",
   "metadata": {},
   "source": [
    "## Descriptions for functions' implementations \n",
    "*Note*: Gauss elimination and back substitution are in the beginning as the algorithms) \n",
    "- `countAllZerosBeforeNonZero`: count all entries in a row are zero until meets a non-zero entry, to identify the first non-zero leading entry.\n",
    "- `checkNotAllZero`: check if a row has all elements are zeros (used to check echelon matrix).\n",
    "- `isEchelonMatrix`: check if a row echelon matrix, as a condition to stop and return in `Gauss_elimination`. \n",
    "- `swapRow`: move rows with less 0s to the top, to ensure the characteristic of row echelon matrix: the first non-zero of row[i+1] is to the right of row[i]'s.\n",
    "- `format_sequence`: display the solutions in case of infinite solutions.\n",
    "- `printNumberOfSol`: use `Kronecker-Capelli` Theorem and compare the rank of augmented matrix and A to conclude the number of the linear system equations.\n"
   ]
  },
  {
   "cell_type": "markdown",
   "id": "4959868b-01bc-4299-9032-fe6d328ee27e",
   "metadata": {},
   "source": [
    "## Special Note:\n",
    "The descriptions and ideas for functions' implementations are also noted and explained in details before and in comment parts of each one for easier comprehension and traceability. "
   ]
  },
  {
   "cell_type": "markdown",
   "id": "5d412bb2-2fb6-43bc-b53d-b1f349a76ede",
   "metadata": {},
   "source": [
    "**THANK YOU FOR USING MY FIRST PROGRAM WITH JUPYTER NOTEBOOK!**"
   ]
  },
  {
   "cell_type": "code",
   "execution_count": null,
   "id": "58bed236-0a5a-4551-8d53-0eb09c98474f",
   "metadata": {},
   "outputs": [],
   "source": []
  }
 ],
 "metadata": {
  "kernelspec": {
   "display_name": "anaconda-panel-2023.05-py310",
   "language": "python",
   "name": "conda-env-anaconda-panel-2023.05-py310-py"
  },
  "language_info": {
   "codemirror_mode": {
    "name": "ipython",
    "version": 3
   },
   "file_extension": ".py",
   "mimetype": "text/x-python",
   "name": "python",
   "nbconvert_exporter": "python",
   "pygments_lexer": "ipython3",
   "version": "3.11.5"
  }
 },
 "nbformat": 4,
 "nbformat_minor": 5
}
